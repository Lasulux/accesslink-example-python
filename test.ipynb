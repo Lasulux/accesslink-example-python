{
 "cells": [
  {
   "cell_type": "code",
   "execution_count": 1,
   "metadata": {},
   "outputs": [
    {
     "data": {
      "text/html": [
       "<div>\n",
       "<style scoped>\n",
       "    .dataframe tbody tr th:only-of-type {\n",
       "        vertical-align: middle;\n",
       "    }\n",
       "\n",
       "    .dataframe tbody tr th {\n",
       "        vertical-align: top;\n",
       "    }\n",
       "\n",
       "    .dataframe thead th {\n",
       "        text-align: right;\n",
       "    }\n",
       "</style>\n",
       "<table border=\"1\" class=\"dataframe\">\n",
       "  <thead>\n",
       "    <tr style=\"text-align: right;\">\n",
       "      <th></th>\n",
       "      <th>exercises</th>\n",
       "      <th>sleepdata</th>\n",
       "      <th>recharge</th>\n",
       "      <th>userdata</th>\n",
       "    </tr>\n",
       "  </thead>\n",
       "  <tbody>\n",
       "    <tr>\n",
       "      <th>0</th>\n",
       "      <td>[]</td>\n",
       "      <td>{'nights': []}</td>\n",
       "      <td>{'recharges': []}</td>\n",
       "      <td>{'polar-user-id': 62136356, 'member-id': '5d73...</td>\n",
       "    </tr>\n",
       "    <tr>\n",
       "      <th>1</th>\n",
       "      <td>[{'id': 'yJmdNqDJ', 'upload_time': '2024-10-16...</td>\n",
       "      <td>{'nights': []}</td>\n",
       "      <td>{'recharges': []}</td>\n",
       "      <td>{'polar-user-id': 62136312, 'member-id': '9544...</td>\n",
       "    </tr>\n",
       "  </tbody>\n",
       "</table>\n",
       "</div>"
      ],
      "text/plain": [
       "                                           exercises       sleepdata  \\\n",
       "0                                                 []  {'nights': []}   \n",
       "1  [{'id': 'yJmdNqDJ', 'upload_time': '2024-10-16...  {'nights': []}   \n",
       "\n",
       "            recharge                                           userdata  \n",
       "0  {'recharges': []}  {'polar-user-id': 62136356, 'member-id': '5d73...  \n",
       "1  {'recharges': []}  {'polar-user-id': 62136312, 'member-id': '9544...  "
      ]
     },
     "execution_count": 1,
     "metadata": {},
     "output_type": "execute_result"
    }
   ],
   "source": [
    "import pandas as pd\n",
    "\n",
    "# Read the Excel file\n",
    "df = pd.read_excel('data.xlsx')\n",
    "\n",
    "# Display the first few rows of the dataframe\n",
    "df.head()"
   ]
  },
  {
   "cell_type": "code",
   "execution_count": 6,
   "metadata": {},
   "outputs": [
    {
     "data": {
      "text/plain": [
       "\"[{'id': 'yJmdNqDJ', 'upload_time': '2024-10-16T09:21:30Z', 'polar_user': 'https://www.polaraccesslink.com/v3/users/62136312', 'device': 'Polar Pacer', 'device_id': 'DECADB2B', 'start_time': '2024-10-16T11:13:18', 'start_time_utc_offset': 120, 'duration': 'PT247.280S', 'heart_rate': {'average': 66, 'maximum': 76}, 'sport': 'OTHER', 'has_route': False, 'detailed_sport_info': 'OTHER_INDOOR', 'calories': 9, 'fat_percentage': 80, 'carbohydrate_percentage': 20, 'protein_percentage': 0, 'training_load_pro': {'cardio-load': 0.23727, 'cardio-load-interpretation': 'NOT_AVAILABLE', 'muscle-load': -1.0, 'muscle-load-interpretation': 'NOT_AVAILABLE', 'perceived-load': 0.0, 'perceived-load-interpretation': 'NOT_AVAILABLE', 'user-rpe': 'UNKNOWN'}}]\""
      ]
     },
     "execution_count": 6,
     "metadata": {},
     "output_type": "execute_result"
    }
   ],
   "source": [
    "df['exercises'][1]"
   ]
  }
 ],
 "metadata": {
  "kernelspec": {
   "display_name": "base",
   "language": "python",
   "name": "python3"
  },
  "language_info": {
   "codemirror_mode": {
    "name": "ipython",
    "version": 3
   },
   "file_extension": ".py",
   "mimetype": "text/x-python",
   "name": "python",
   "nbconvert_exporter": "python",
   "pygments_lexer": "ipython3",
   "version": "3.11.5"
  }
 },
 "nbformat": 4,
 "nbformat_minor": 2
}
